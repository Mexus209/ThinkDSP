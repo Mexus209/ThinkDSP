{
 "cells": [
  {
   "cell_type": "code",
   "execution_count": null,
   "metadata": {},
   "outputs": [],
   "source": [
    "from thinkdsp import SinSignal\n",
    "from thinkdsp import Sinusoid\n",
    "import numpy as np\n",
    "from thinkdsp import decorate\n",
    "\n",
    "def PositiveSinSignal(freq=440, amp=1.0, offset=0):\n",
    "    \"\"\"Makes a sine Sinusoid that is always positive.\n",
    "\n",
    "    freq: float frequency in Hz\n",
    "    amp: float amplitude, 1.0 is nominal max\n",
    "    offset: float phase offset in radians\n",
    "\n",
    "    returns: Sinusoid object with values always greater than 0\n",
    "    \"\"\"\n",
    "    # Удваиваем амплитуду и добавляем смещение, равное амплитуде\n",
    "    return Sinusoid(freq, amp, offset, func=lambda x: amp + np.sin(x))\n",
    "\n",
    "sin_sig1 = SinSignal(freq=1000, amp=1, offset=0)\n",
    "sin_sig2 = PositiveSinSignal(freq=1000, amp=1, offset=0)\n",
    "wave1 = sin_sig1.make_wave(duration = sin_sig1.period * 5, framerate = 44000)\n",
    "wave2 = sin_sig2.make_wave(duration = sin_sig1.period * 5, framerate = 44000)\n",
    "spectr1 = wave1.make_spectrum()\n",
    "spectr2 = wave2.make_spectrum()"
   ]
  },
  {
   "cell_type": "code",
   "execution_count": null,
   "metadata": {},
   "outputs": [],
   "source": [
    "wave1.plot()\n",
    "decorate(xlabel='Time (s)')"
   ]
  },
  {
   "cell_type": "code",
   "execution_count": null,
   "metadata": {},
   "outputs": [],
   "source": [
    "spectr1.plot(high = 5000)\n",
    "decorate(xlabel='Frequency (Hz)')"
   ]
  },
  {
   "cell_type": "code",
   "execution_count": null,
   "metadata": {},
   "outputs": [],
   "source": [
    "spectr2.plot(high = 5000)\n",
    "decorate(xlabel='Frequency (Hz)')"
   ]
  }
 ],
 "metadata": {
  "language_info": {
   "name": "python"
  }
 },
 "nbformat": 4,
 "nbformat_minor": 2
}
